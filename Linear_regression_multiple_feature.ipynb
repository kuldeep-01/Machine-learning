{
 "cells": [
  {
   "cell_type": "code",
   "execution_count": 1,
   "id": "66bf9dc7-127b-4d33-8955-7ca55a95cdb9",
   "metadata": {},
   "outputs": [],
   "source": [
    "import pandas as pd\n",
    "import copy, math\n",
    "import numpy as np\n",
    "import matplotlib.pyplot as plt\n",
    "plt.style.use('./deeplearning.mplstyle')\n",
    "np.set_printoptions(precision=2)  # reduced display precision on numpy arrays"
   ]
  },
  {
   "cell_type": "code",
   "execution_count": 2,
   "id": "750e62c7-7829-4629-86ab-5fee9c11fc83",
   "metadata": {},
   "outputs": [
    {
     "name": "stdout",
     "output_type": "stream",
     "text": [
      "[[7.42 4.   2.   3.  ]\n",
      " [8.96 4.   4.   4.  ]\n",
      " [9.96 3.   2.   2.  ]\n",
      " ...\n",
      " [3.62 2.   1.   1.  ]\n",
      " [2.91 3.   1.   1.  ]\n",
      " [3.85 3.   1.   2.  ]]\n",
      "[133.   122.5  122.5  122.15 114.1  108.5  101.5  101.5   98.7   98.\n",
      "  98.    96.81  93.1   92.4   92.4   91.    91.    89.6   88.9   88.55\n",
      "  87.5   86.8   86.45  86.45  85.75  85.4   84.63  84.    84.    84.\n",
      "  84.    84.    82.95  81.9   81.2   80.81  80.43  79.8   79.62  79.1\n",
      "  78.75  78.4   77.    77.    75.6   75.6   75.25  74.9   74.55  74.2\n",
      "  74.2   74.2   73.5   73.5   73.5   73.5   73.43  72.45  72.1   72.1\n",
      "  71.4   70.7   70.7   70.35  70.    69.3   69.3   68.95  68.6   67.9\n",
      "  67.9   67.55  67.2   66.85  66.5   66.5   66.5   66.5   66.5   66.5\n",
      "  66.29  66.15  66.15  65.8   65.1   65.1   65.1   64.75  64.75  64.4\n",
      "  64.4   64.19  64.05  63.    63.    63.    63.    63.    62.93  62.65\n",
      "  62.3   62.3   61.95  61.95  61.95  61.6   61.6   61.25  61.08  60.9\n",
      "  60.9   60.9   60.83  60.83  60.2   60.2   60.2   59.5   59.5   59.5\n",
      "  59.5   59.5   59.5   59.5   59.5   59.43  58.8   58.8   58.73  58.73\n",
      "  58.66  58.1   58.1   58.1   58.03  57.75  57.4   57.4   57.4   57.4\n",
      "  57.4   56.52  56.    56.    56.    56.    56.    56.    56.    56.\n",
      "  56.    55.65  55.65  55.3   55.3   55.3   55.23  54.95  54.95  54.6\n",
      "  54.6   54.6   54.6   54.25  53.9   53.83  53.2   52.85  52.5   52.5\n",
      "  52.5   52.5   52.5   52.5   52.5   52.5   52.5   52.43  52.29  52.15\n",
      "  52.15  52.15  51.45  51.45  51.1   51.1   51.1   51.1   50.75  50.4\n",
      "  50.4   50.4   50.4   50.33  50.05  49.7   49.7   49.56  49.35  49.07\n",
      "  49.    49.    49.    49.    49.    49.    49.    49.    49.    49.\n",
      "  49.    49.    48.93  48.93  48.65  48.3   48.3   48.3   48.3   47.95\n",
      "  47.95  47.67  47.6   47.6   47.6   47.53  46.9   46.9   46.9   46.9\n",
      "  46.9   46.9   46.55  46.2   46.2   46.2   46.2   46.2   46.13  45.85\n",
      "  45.85  45.5   45.5   45.5   45.5   45.5   45.5   45.5   45.43  45.43\n",
      "  45.15  45.15  45.15  45.15  44.8   44.8   44.8   44.8   44.8   44.73\n",
      "  44.73  44.73  44.45  44.1   44.1   44.03  44.03  44.03  43.82  43.75\n",
      "  43.4   43.4   43.4   43.4   43.4   43.19  43.05  43.05  42.77  42.7\n",
      "  42.7   42.7   42.7   42.7   42.7   42.35  42.35  42.    42.    42.\n",
      "  42.    42.    42.    42.    42.    42.    42.    42.    42.    42.\n",
      "  42.    42.    42.    42.    41.93  41.93  41.65  41.65  41.65  41.3\n",
      "  41.3   41.23  40.98  40.95  40.95  40.95  40.6   40.6   40.6   40.6\n",
      "  40.6   40.25  40.25  40.25  40.08  40.08  39.9   39.9   39.9   39.9\n",
      "  39.9   39.2   39.2   39.2   39.2   39.2   39.2   39.2   38.85  38.85\n",
      "  38.5   38.5   38.5   38.5   38.5   38.5   38.5   38.36  38.15  37.8\n",
      "  37.8   37.8   37.8   37.8   37.8   37.73  37.73  37.73  37.45  37.1\n",
      "  37.1   37.1   37.1   37.1   37.03  37.03  36.75  36.75  36.75  36.75\n",
      "  36.4   36.4   36.4   36.4   36.4   36.4   36.4   36.4   36.4   36.33\n",
      "  36.05  36.05  35.7   35.7   35.7   35.7   35.35  35.    35.    35.\n",
      "  35.    35.    35.    35.    35.    35.    35.    35.    35.    35.\n",
      "  35.    35.    35.    35.    34.93  34.65  34.65  34.65  34.3   34.3\n",
      "  34.3   34.3   34.3   34.3   34.23  33.95  33.95  33.95  33.6   33.6\n",
      "  33.6   33.6   33.6   33.6   33.6   33.6   33.53  33.32  33.25  33.25\n",
      "  32.9   32.9   32.9   32.9   32.9   32.9   32.9   32.9   32.55  32.55\n",
      "  32.34  32.2   32.2   32.2   32.2   31.5   31.5   31.5   31.5   31.5\n",
      "  31.5   31.5   31.5   31.5   31.43  31.29  31.19  31.15  31.15  31.15\n",
      "  30.87  30.8   30.8   30.8   30.8   30.45  30.1   30.1   30.1   30.1\n",
      "  30.1   30.1   30.1   30.03  29.75  29.61  29.4   29.4   29.4   29.4\n",
      "  29.4   29.4   29.4   29.4   28.7   28.7   28.7   28.7   28.52  28.35\n",
      "  28.35  28.35  28.    28.    27.3   27.3   26.95  26.6   26.6   26.6\n",
      "  26.6   26.6   26.6   26.6   26.53  26.53  26.04  25.9   25.9   25.9\n",
      "  25.2   25.2   25.2   24.85  24.85  24.5   24.5   24.5   24.5   24.5\n",
      "  24.5   24.08  23.8   23.8   23.8   23.45  23.1   22.75  22.75  22.75\n",
      "  22.4   22.33  21.35  21.    21.    21.    19.6   18.9   18.9   18.55\n",
      "  18.2   17.67  17.5   17.5   17.5 ]\n"
     ]
    }
   ],
   "source": [
    "data = pd.read_csv('Housing.csv')\n",
    "area = data['area']\n",
    "bed = data[\"bedrooms\"]\n",
    "bath = data[\"bathrooms\"]\n",
    "story = data[\"stories\"]\n",
    "\n",
    "feature=[]\n",
    "\n",
    "price = data['price']\n",
    "for i in range (len(area)):\n",
    "    tmp=[]\n",
    "    tmp.append(area[i]/1000)\n",
    "    tmp.append(bed[i])\n",
    "    tmp.append(bath[i])\n",
    "    tmp.append(story[i])\n",
    "    feature.append(tmp)\n",
    "\n",
    "price_scale = list(map(lambda x: (x)/100000, price))\n",
    "\n",
    "X_train = np.array(feature)\n",
    "y_train = np.array(price_scale)\n",
    "\n",
    "print(X_train)\n",
    "print(y_train)\n",
    "    "
   ]
  },
  {
   "cell_type": "code",
   "execution_count": 3,
   "id": "cf312fb9-0067-4460-be46-a5ab6abaec78",
   "metadata": {},
   "outputs": [
    {
     "name": "stdout",
     "output_type": "stream",
     "text": [
      "X Shape: (545, 4)\n",
      "[[7.42 4.   2.   3.  ]\n",
      " [8.96 4.   4.   4.  ]\n",
      " [9.96 3.   2.   2.  ]\n",
      " ...\n",
      " [3.62 2.   1.   1.  ]\n",
      " [2.91 3.   1.   1.  ]\n",
      " [3.85 3.   1.   2.  ]]\n",
      "\n",
      "\n",
      "y Shape: (545,)\n",
      "[133.   122.5  122.5  122.15 114.1  108.5  101.5  101.5   98.7   98.\n",
      "  98.    96.81  93.1   92.4   92.4   91.    91.    89.6   88.9   88.55\n",
      "  87.5   86.8   86.45  86.45  85.75  85.4   84.63  84.    84.    84.\n",
      "  84.    84.    82.95  81.9   81.2   80.81  80.43  79.8   79.62  79.1\n",
      "  78.75  78.4   77.    77.    75.6   75.6   75.25  74.9   74.55  74.2\n",
      "  74.2   74.2   73.5   73.5   73.5   73.5   73.43  72.45  72.1   72.1\n",
      "  71.4   70.7   70.7   70.35  70.    69.3   69.3   68.95  68.6   67.9\n",
      "  67.9   67.55  67.2   66.85  66.5   66.5   66.5   66.5   66.5   66.5\n",
      "  66.29  66.15  66.15  65.8   65.1   65.1   65.1   64.75  64.75  64.4\n",
      "  64.4   64.19  64.05  63.    63.    63.    63.    63.    62.93  62.65\n",
      "  62.3   62.3   61.95  61.95  61.95  61.6   61.6   61.25  61.08  60.9\n",
      "  60.9   60.9   60.83  60.83  60.2   60.2   60.2   59.5   59.5   59.5\n",
      "  59.5   59.5   59.5   59.5   59.5   59.43  58.8   58.8   58.73  58.73\n",
      "  58.66  58.1   58.1   58.1   58.03  57.75  57.4   57.4   57.4   57.4\n",
      "  57.4   56.52  56.    56.    56.    56.    56.    56.    56.    56.\n",
      "  56.    55.65  55.65  55.3   55.3   55.3   55.23  54.95  54.95  54.6\n",
      "  54.6   54.6   54.6   54.25  53.9   53.83  53.2   52.85  52.5   52.5\n",
      "  52.5   52.5   52.5   52.5   52.5   52.5   52.5   52.43  52.29  52.15\n",
      "  52.15  52.15  51.45  51.45  51.1   51.1   51.1   51.1   50.75  50.4\n",
      "  50.4   50.4   50.4   50.33  50.05  49.7   49.7   49.56  49.35  49.07\n",
      "  49.    49.    49.    49.    49.    49.    49.    49.    49.    49.\n",
      "  49.    49.    48.93  48.93  48.65  48.3   48.3   48.3   48.3   47.95\n",
      "  47.95  47.67  47.6   47.6   47.6   47.53  46.9   46.9   46.9   46.9\n",
      "  46.9   46.9   46.55  46.2   46.2   46.2   46.2   46.2   46.13  45.85\n",
      "  45.85  45.5   45.5   45.5   45.5   45.5   45.5   45.5   45.43  45.43\n",
      "  45.15  45.15  45.15  45.15  44.8   44.8   44.8   44.8   44.8   44.73\n",
      "  44.73  44.73  44.45  44.1   44.1   44.03  44.03  44.03  43.82  43.75\n",
      "  43.4   43.4   43.4   43.4   43.4   43.19  43.05  43.05  42.77  42.7\n",
      "  42.7   42.7   42.7   42.7   42.7   42.35  42.35  42.    42.    42.\n",
      "  42.    42.    42.    42.    42.    42.    42.    42.    42.    42.\n",
      "  42.    42.    42.    42.    41.93  41.93  41.65  41.65  41.65  41.3\n",
      "  41.3   41.23  40.98  40.95  40.95  40.95  40.6   40.6   40.6   40.6\n",
      "  40.6   40.25  40.25  40.25  40.08  40.08  39.9   39.9   39.9   39.9\n",
      "  39.9   39.2   39.2   39.2   39.2   39.2   39.2   39.2   38.85  38.85\n",
      "  38.5   38.5   38.5   38.5   38.5   38.5   38.5   38.36  38.15  37.8\n",
      "  37.8   37.8   37.8   37.8   37.8   37.73  37.73  37.73  37.45  37.1\n",
      "  37.1   37.1   37.1   37.1   37.03  37.03  36.75  36.75  36.75  36.75\n",
      "  36.4   36.4   36.4   36.4   36.4   36.4   36.4   36.4   36.4   36.33\n",
      "  36.05  36.05  35.7   35.7   35.7   35.7   35.35  35.    35.    35.\n",
      "  35.    35.    35.    35.    35.    35.    35.    35.    35.    35.\n",
      "  35.    35.    35.    35.    34.93  34.65  34.65  34.65  34.3   34.3\n",
      "  34.3   34.3   34.3   34.3   34.23  33.95  33.95  33.95  33.6   33.6\n",
      "  33.6   33.6   33.6   33.6   33.6   33.6   33.53  33.32  33.25  33.25\n",
      "  32.9   32.9   32.9   32.9   32.9   32.9   32.9   32.9   32.55  32.55\n",
      "  32.34  32.2   32.2   32.2   32.2   31.5   31.5   31.5   31.5   31.5\n",
      "  31.5   31.5   31.5   31.5   31.43  31.29  31.19  31.15  31.15  31.15\n",
      "  30.87  30.8   30.8   30.8   30.8   30.45  30.1   30.1   30.1   30.1\n",
      "  30.1   30.1   30.1   30.03  29.75  29.61  29.4   29.4   29.4   29.4\n",
      "  29.4   29.4   29.4   29.4   28.7   28.7   28.7   28.7   28.52  28.35\n",
      "  28.35  28.35  28.    28.    27.3   27.3   26.95  26.6   26.6   26.6\n",
      "  26.6   26.6   26.6   26.6   26.53  26.53  26.04  25.9   25.9   25.9\n",
      "  25.2   25.2   25.2   24.85  24.85  24.5   24.5   24.5   24.5   24.5\n",
      "  24.5   24.08  23.8   23.8   23.8   23.45  23.1   22.75  22.75  22.75\n",
      "  22.4   22.33  21.35  21.    21.    21.    19.6   18.9   18.9   18.55\n",
      "  18.2   17.67  17.5   17.5   17.5 ]\n"
     ]
    }
   ],
   "source": [
    "print(f\"X Shape: {X_train.shape}\")\n",
    "print(X_train)\n",
    "print(\"\\n\")\n",
    "print(f\"y Shape: {y_train.shape}\")\n",
    "print(y_train)"
   ]
  },
  {
   "cell_type": "code",
   "execution_count": 4,
   "id": "3241364d-921c-4ea4-9635-4cb65b64e4ed",
   "metadata": {},
   "outputs": [],
   "source": [
    "def predict(x, w, b): \n",
    "    p = np.dot(x, w) + b     \n",
    "    return p\n",
    "    "
   ]
  },
  {
   "cell_type": "code",
   "execution_count": 5,
   "id": "55044f99-ebbc-4dfa-aaaa-429febd0fd64",
   "metadata": {},
   "outputs": [],
   "source": [
    "# L regularization\n",
    "# def compute_cost(X, y, w, b): \n",
    "#     m = X.shape[0]\n",
    "#     cost = 0.0\n",
    "#     for i in range(m):                                \n",
    "#         f_wb_i = np.dot(X[i], w) + b           \n",
    "#         cost = cost + (f_wb_i - y[i])**2       \n",
    "#     cost = cost / (2 * m)                       \n",
    "#     return cost\n",
    "\n",
    "# L1 regularization\n",
    "# def compute_cost(X, y, w, b): \n",
    "#     m = X.shape[0]\n",
    "#     n=len(w)\n",
    "#     cost = 0.0\n",
    "#     reg_p = 0.1\n",
    "#     norm = 0.0\n",
    "#     for j in range(n):\n",
    "#         norm = norm + abs(w[j])\n",
    "#     for i in range(m):                                \n",
    "#         f_wb_i = np.dot(X[i], w) + b           \n",
    "#         cost = cost + (f_wb_i - y[i])**2       \n",
    "#     cost = (cost + (reg_p * norm)) / (2 * m)                       \n",
    "#     return cost\n",
    "\n",
    "\n",
    "# L2 regularization\n",
    "def compute_cost(X, y, w, b): \n",
    "    m = X.shape[0]\n",
    "    n=len(w)\n",
    "    cost = 0.0\n",
    "    reg_p = 0.1\n",
    "    norm = 0.0\n",
    "    for j in range(n):\n",
    "        norm = norm + ((w[j])**2)\n",
    "    for i in range(m):                                \n",
    "        f_wb_i = np.dot(X[i], w) + b           \n",
    "        cost = cost + (f_wb_i - y[i])**2       \n",
    "    cost = (cost + (reg_p * norm)) / (2 * m)                       \n",
    "    return cost"
   ]
  },
  {
   "cell_type": "code",
   "execution_count": 6,
   "id": "bde8895c-b325-4251-a9a5-33f4215847d0",
   "metadata": {},
   "outputs": [],
   "source": [
    "# L regularization\n",
    "# def compute_gradient(X, y, w, b): \n",
    "#     m,n = X.shape           \n",
    "#     dj_dw = np.zeros((n,))\n",
    "#     dj_db = 0.\n",
    "#     for i in range(m):                             \n",
    "#         err = (np.dot(X[i], w) + b) - y[i]   \n",
    "#         for j in range(n):                         \n",
    "#             dj_dw[j] = dj_dw[j] + err * X[i, j]    \n",
    "#         dj_db = dj_db + err                        \n",
    "#     dj_dw = dj_dw / m                                \n",
    "#     dj_db = dj_db / m                                \n",
    "#     return dj_db, dj_dw\n",
    "\n",
    "# L1 regularization\n",
    "# def compute_gradient(X, y, w, b): \n",
    "#     m,n = X.shape           \n",
    "#     dj_dw = np.zeros((n,))\n",
    "#     dj_db = 0.\n",
    "\n",
    "#     if sum(w)>0:\n",
    "#         reg_p = 0.1\n",
    "#     else:\n",
    "#         reg_p = -0.1\n",
    "\n",
    "#     for i in range(m):                             \n",
    "#         err = (np.dot(X[i], w) + b) - y[i]   \n",
    "#         for j in range(n):                         \n",
    "#             dj_dw[j] = dj_dw[j] + err * X[i, j]    \n",
    "#         dj_db = dj_db + err                        \n",
    "#     dj_dw = (dj_dw + reg_p) / m                                \n",
    "#     dj_db = dj_db / m                                \n",
    "#     return dj_db, dj_dw\n",
    "\n",
    "\n",
    "# L2 regularization\n",
    "def compute_gradient(X, y, w, b): \n",
    "    m,n = X.shape           \n",
    "    dj_dw = np.zeros((n,))\n",
    "    dj_db = 0.\n",
    "    \n",
    "    reg_p = 0.1\n",
    "    \n",
    "\n",
    "    for i in range(m):                             \n",
    "        err = (np.dot(X[i], w) + b) - y[i]   \n",
    "        for j in range(n):                         \n",
    "            dj_dw[j] = dj_dw[j] + err * X[i, j]    \n",
    "        dj_db = dj_db + err                        \n",
    "    dj_dw = (dj_dw + (reg_p * sum(w)) ) / m                                \n",
    "    dj_db = dj_db / m                                \n",
    "    return dj_db, dj_dw"
   ]
  },
  {
   "cell_type": "code",
   "execution_count": 7,
   "id": "32375880-e2db-456d-a77c-319778ae4eea",
   "metadata": {},
   "outputs": [],
   "source": [
    "def gradient_descent(X, y, w_in, b_in, cost_function, gradient_function, alpha, num_iters): \n",
    "    J_history = []\n",
    "    w = copy.deepcopy(w_in)  \n",
    "    b = b_in\n",
    "    \n",
    "    for i in range(num_iters):\n",
    "\n",
    "        dj_db,dj_dw = gradient_function(X, y, w, b)   \n",
    "        w = w - alpha * dj_dw               \n",
    "        b = b - alpha * dj_db               \n",
    "        if i<100000:\n",
    "            J_history.append( cost_function(X, y, w, b))\n",
    "        if i% math.ceil(num_iters / 10) == 0:\n",
    "            print(f\"Iteration {i:4d}: Cost {J_history[-1]:8.2f}   \")\n",
    "        \n",
    "    return w, b, J_history #return final w,b and J history for graphing"
   ]
  },
  {
   "cell_type": "code",
   "execution_count": 15,
   "id": "660150c7-1b01-44b0-b14b-105944ae8f01",
   "metadata": {},
   "outputs": [
    {
     "name": "stdout",
     "output_type": "stream",
     "text": [
      "w_init shape:  (4,)\n"
     ]
    }
   ],
   "source": [
    "b_init = 0\n",
    "w_init = np.array([ 0.0, 0.0, 0.0, 0.0])\n",
    "print(\"w_init shape: \",w_init.shape )"
   ]
  },
  {
   "cell_type": "code",
   "execution_count": 12,
   "id": "093b1928-b54c-4225-a6ef-70913e5ca7ee",
   "metadata": {},
   "outputs": [
    {
     "name": "stdout",
     "output_type": "stream",
     "text": [
      "Iteration    0: Cost  1205.00   \n",
      "Iteration 3000: Cost    84.62   \n",
      "Iteration 6000: Cost    82.34   \n",
      "Iteration 9000: Cost    81.61   \n",
      "Iteration 12000: Cost    81.35   \n",
      "Iteration 15000: Cost    81.25   \n",
      "Iteration 18000: Cost    81.20   \n",
      "Iteration 21000: Cost    81.18   \n",
      "Iteration 24000: Cost    81.16   \n",
      "Iteration 27000: Cost    81.15   \n",
      "b,w found by gradient descent: -1.68,[ 3.76  1.75 11.86  5.31] \n"
     ]
    }
   ],
   "source": [
    "# initialize parameters\n",
    "initial_w = np.zeros_like(w_init)\n",
    "initial_b = 0.\n",
    "iterations = 30000\n",
    "alpha = 1.0e-3\n",
    "w_final, b_final, J_hist = gradient_descent(X_train, y_train, initial_w, initial_b,compute_cost, compute_gradient, alpha, iterations)\n",
    "print(f\"b,w found by gradient descent: {b_final:0.2f},{w_final} \")"
   ]
  },
  {
   "cell_type": "code",
   "execution_count": 13,
   "id": "c15557d3-43e1-43b1-814d-841a25212234",
   "metadata": {},
   "outputs": [
    {
     "data": {
      "image/png": "[encoded data removed]",
      "text/plain": [
       "<Figure size 1200x400 with 2 Axes>"
      ]
     },
     "metadata": {},
     "output_type": "display_data"
    }
   ],
   "source": [
    "# plot cost versus iteration  \n",
    "fig, (ax1, ax2) = plt.subplots(1, 2, constrained_layout=True, figsize=(12, 4))\n",
    "ax1.plot(J_hist)\n",
    "ax2.plot(100 + np.arange(len(J_hist[100:])), J_hist[100:])\n",
    "ax1.set_title(\"Cost vs. iteration\");  ax2.set_title(\"Cost vs. iteration (tail)\")\n",
    "ax1.set_ylabel('Cost')             ;  ax2.set_ylabel('Cost') \n",
    "ax1.set_xlabel('iteration step')   ;  ax2.set_xlabel('iteration step') \n",
    "plt.show()"
   ]
  },
  {
   "cell_type": "code",
   "execution_count": 14,
   "id": "1757a8bf-4e84-43e0-b9f4-fc5e59e49ff4",
   "metadata": {},
   "outputs": [
    {
     "name": "stdin",
     "output_type": "stream",
     "text": [
      "enter the area : 6000\n",
      "enter the number of bed room : 4\n",
      "enter the number of bathroom : 3\n",
      "enter the number of floor : 2\n"
     ]
    },
    {
     "name": "stdout",
     "output_type": "stream",
     "text": [
      "22583515.655932244\n"
     ]
    }
   ],
   "source": [
    "area=float(input(\"enter the area :\"))\n",
    "bed=float(input(\"enter the number of bed room :\"))\n",
    "bath=float(input(\"enter the number of bathroom :\"))\n",
    "story=float(input(\"enter the number of floor :\"))\n",
    "price = b_final + ((w_final[0]*1000*area) + (w_final[1]*bed) + (w_final[2]*bath) + (w_final[3]*story))\n",
    "print(price)\n",
    "\n"
   ]
  },
  {
   "cell_type": "code",
   "execution_count": null,
   "id": "640c2236-cb40-4b36-8c6c-f34ded4dcfa8",
   "metadata": {},
   "outputs": [],
   "source": []
  }
 ],
 "metadata": {
  "kernelspec": {
   "display_name": "Python 3 (ipykernel)",
   "language": "python",
   "name": "python3"
  },
  "language_info": {
   "codemirror_mode": {
    "name": "ipython",
    "version": 3
   },
   "file_extension": ".py",
   "mimetype": "text/x-python",
   "name": "python",
   "nbconvert_exporter": "python",
   "pygments_lexer": "ipython3",
   "version": "3.10.6"
  }
 },
 "nbformat": 4,
 "nbformat_minor": 5
}
