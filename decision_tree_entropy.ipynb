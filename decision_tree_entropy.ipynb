{
 "cells": [
  {
   "cell_type": "code",
   "execution_count": 1,
   "id": "9b3149ff-b942-4954-9c4d-472e39ea1f63",
   "metadata": {},
   "outputs": [],
   "source": [
    "import numpy as np\n",
    "import pandas as pd\n"
   ]
  },
  {
   "cell_type": "code",
   "execution_count": 2,
   "id": "c8322587-1a14-4054-8486-62981556edb7",
   "metadata": {},
   "outputs": [
    {
     "data": {
      "text/html": [
       "<div>\n",
       "<style scoped>\n",
       "    .dataframe tbody tr th:only-of-type {\n",
       "        vertical-align: middle;\n",
       "    }\n",
       "\n",
       "    .dataframe tbody tr th {\n",
       "        vertical-align: top;\n",
       "    }\n",
       "\n",
       "    .dataframe thead th {\n",
       "        text-align: right;\n",
       "    }\n",
       "</style>\n",
       "<table border=\"1\" class=\"dataframe\">\n",
       "  <thead>\n",
       "    <tr style=\"text-align: right;\">\n",
       "      <th></th>\n",
       "      <th>sepal_length</th>\n",
       "      <th>sepal_width</th>\n",
       "      <th>petal_length</th>\n",
       "      <th>petal_width</th>\n",
       "      <th>type</th>\n",
       "    </tr>\n",
       "  </thead>\n",
       "  <tbody>\n",
       "    <tr>\n",
       "      <th>1</th>\n",
       "      <td>5.1</td>\n",
       "      <td>3.5</td>\n",
       "      <td>1.4</td>\n",
       "      <td>0.2</td>\n",
       "      <td>Iris-setosa</td>\n",
       "    </tr>\n",
       "    <tr>\n",
       "      <th>2</th>\n",
       "      <td>4.9</td>\n",
       "      <td>3.0</td>\n",
       "      <td>1.4</td>\n",
       "      <td>0.2</td>\n",
       "      <td>Iris-setosa</td>\n",
       "    </tr>\n",
       "    <tr>\n",
       "      <th>3</th>\n",
       "      <td>4.7</td>\n",
       "      <td>3.2</td>\n",
       "      <td>1.3</td>\n",
       "      <td>0.2</td>\n",
       "      <td>Iris-setosa</td>\n",
       "    </tr>\n",
       "    <tr>\n",
       "      <th>4</th>\n",
       "      <td>4.6</td>\n",
       "      <td>3.1</td>\n",
       "      <td>1.5</td>\n",
       "      <td>0.2</td>\n",
       "      <td>Iris-setosa</td>\n",
       "    </tr>\n",
       "    <tr>\n",
       "      <th>5</th>\n",
       "      <td>5.0</td>\n",
       "      <td>3.6</td>\n",
       "      <td>1.4</td>\n",
       "      <td>0.2</td>\n",
       "      <td>Iris-setosa</td>\n",
       "    </tr>\n",
       "    <tr>\n",
       "      <th>6</th>\n",
       "      <td>5.4</td>\n",
       "      <td>3.9</td>\n",
       "      <td>1.7</td>\n",
       "      <td>0.4</td>\n",
       "      <td>Iris-setosa</td>\n",
       "    </tr>\n",
       "    <tr>\n",
       "      <th>7</th>\n",
       "      <td>4.6</td>\n",
       "      <td>3.4</td>\n",
       "      <td>1.4</td>\n",
       "      <td>0.3</td>\n",
       "      <td>Iris-setosa</td>\n",
       "    </tr>\n",
       "    <tr>\n",
       "      <th>8</th>\n",
       "      <td>5.0</td>\n",
       "      <td>3.4</td>\n",
       "      <td>1.5</td>\n",
       "      <td>0.2</td>\n",
       "      <td>Iris-setosa</td>\n",
       "    </tr>\n",
       "    <tr>\n",
       "      <th>9</th>\n",
       "      <td>4.4</td>\n",
       "      <td>2.9</td>\n",
       "      <td>1.4</td>\n",
       "      <td>0.2</td>\n",
       "      <td>Iris-setosa</td>\n",
       "    </tr>\n",
       "    <tr>\n",
       "      <th>10</th>\n",
       "      <td>4.9</td>\n",
       "      <td>3.1</td>\n",
       "      <td>1.5</td>\n",
       "      <td>0.1</td>\n",
       "      <td>Iris-setosa</td>\n",
       "    </tr>\n",
       "  </tbody>\n",
       "</table>\n",
       "</div>"
      ],
      "text/plain": [
       "    sepal_length  sepal_width  petal_length  petal_width         type\n",
       "1            5.1          3.5           1.4          0.2  Iris-setosa\n",
       "2            4.9          3.0           1.4          0.2  Iris-setosa\n",
       "3            4.7          3.2           1.3          0.2  Iris-setosa\n",
       "4            4.6          3.1           1.5          0.2  Iris-setosa\n",
       "5            5.0          3.6           1.4          0.2  Iris-setosa\n",
       "6            5.4          3.9           1.7          0.4  Iris-setosa\n",
       "7            4.6          3.4           1.4          0.3  Iris-setosa\n",
       "8            5.0          3.4           1.5          0.2  Iris-setosa\n",
       "9            4.4          2.9           1.4          0.2  Iris-setosa\n",
       "10           4.9          3.1           1.5          0.1  Iris-setosa"
      ]
     },
     "execution_count": 2,
     "metadata": {},
     "output_type": "execute_result"
    }
   ],
   "source": [
    "col_names = ['sepal_length', 'sepal_width', 'petal_length', 'petal_width', 'type']\n",
    "data = pd.read_csv(\"iris.csv\", skiprows=1, header=None, names=col_names)\n",
    "data.head(10)"
   ]
  },
  {
   "cell_type": "code",
   "execution_count": 3,
   "id": "11b61b1b-8860-4f86-8230-684e5d592752",
   "metadata": {},
   "outputs": [],
   "source": [
    "def calculate_leaf_value(Y):\n",
    "    Y = list(Y)\n",
    "    return max(Y, key=Y.count)"
   ]
  },
  {
   "cell_type": "code",
   "execution_count": 4,
   "id": "4b106828-80cd-4e47-8370-37770734519c",
   "metadata": {},
   "outputs": [],
   "source": [
    "def gini_index(y):\n",
    "    class_labels = np.unique(y)\n",
    "    gini = 0\n",
    "    for cls in class_labels:\n",
    "        p_cls = len(y[y == cls]) / len(y)\n",
    "        gini += p_cls**2\n",
    "    return 1 - gini"
   ]
  },
  {
   "cell_type": "code",
   "execution_count": 5,
   "id": "50d8a84c-6f3e-4951-828e-a20d6e1af2ee",
   "metadata": {},
   "outputs": [],
   "source": [
    "def entropy(y):\n",
    "    class_labels = np.unique(y)\n",
    "    entropy = 0\n",
    "    for cls in class_labels:\n",
    "        p_cls = len(y[y == cls]) / len(y)\n",
    "        entropy += -p_cls * np.log2(p_cls)\n",
    "    return entropy"
   ]
  },
  {
   "cell_type": "code",
   "execution_count": 6,
   "id": "6cf0316f-6a05-43cf-b6be-d374d17e6439",
   "metadata": {},
   "outputs": [],
   "source": [
    "def information_gain(parent, l_child, r_child, mode=\"entropy\"):\n",
    "    weight_l = len(l_child) / len(parent)\n",
    "    weight_r = len(r_child) / len(parent)\n",
    "    if mode == \"gini\":\n",
    "        gain = gini_index(parent) - (weight_l * gini_index(l_child) + weight_r * gini_index(r_child))\n",
    "    else:\n",
    "        gain = entropy(parent) - (weight_l * entropy(l_child) + weight_r * entropy(r_child))\n",
    "    return gain"
   ]
  },
  {
   "cell_type": "code",
   "execution_count": 7,
   "id": "a3f1fc62-a0ea-4ce0-b261-d090b32da7d8",
   "metadata": {},
   "outputs": [],
   "source": [
    "def split(dataset, feature_index, threshold):\n",
    "    dataset_left = np.array([row for row in dataset if row[feature_index] <= threshold])\n",
    "    dataset_right = np.array([row for row in dataset if row[feature_index] > threshold])\n",
    "    return dataset_left, dataset_right"
   ]
  },
  {
   "cell_type": "code",
   "execution_count": 8,
   "id": "b10a4844-9585-446f-abbd-1b8ca97141a6",
   "metadata": {},
   "outputs": [],
   "source": [
    "def get_best_split(dataset, num_samples, num_features, min_samples_split, max_depth):\n",
    "    best_split = {}\n",
    "    max_info_gain = -float(\"inf\")\n",
    "    for feature_index in range(num_features):\n",
    "        feature_values = dataset[:, feature_index]\n",
    "        possible_thresholds = np.unique(feature_values)\n",
    "        for threshold in possible_thresholds:\n",
    "            dataset_left, dataset_right = split(dataset, feature_index, threshold)\n",
    "            if len(dataset_left) > 0 and len(dataset_right) > 0:\n",
    "                y, left_y, right_y = dataset[:, -1], dataset_left[:, -1], dataset_right[:, -1]\n",
    "                curr_info_gain = information_gain(y, left_y, right_y, \"gini\")\n",
    "                if curr_info_gain > max_info_gain:\n",
    "                    best_split[\"feature_index\"] = feature_index\n",
    "                    best_split[\"threshold\"] = threshold\n",
    "                    best_split[\"dataset_left\"] = dataset_left\n",
    "                    best_split[\"dataset_right\"] = dataset_right\n",
    "                    best_split[\"info_gain\"] = curr_info_gain\n",
    "                    max_info_gain = curr_info_gain\n",
    "    return best_split"
   ]
  },
  {
   "cell_type": "code",
   "execution_count": 9,
   "id": "6cf22eeb-7b1b-434c-994c-0214fac37b99",
   "metadata": {},
   "outputs": [],
   "source": [
    "def build_tree(dataset, min_samples_split, max_depth, curr_depth=0):\n",
    "    X, Y = dataset[:, :-1], dataset[:, -1]\n",
    "    num_samples, num_features = np.shape(X)\n",
    "    if num_samples >= min_samples_split and curr_depth <= max_depth:\n",
    "        best_split = get_best_split(dataset, num_samples, num_features, min_samples_split, max_depth)\n",
    "        if best_split[\"info_gain\"] > 0:\n",
    "            left_subtree = build_tree(best_split[\"dataset_left\"], min_samples_split, max_depth, curr_depth + 1)\n",
    "            right_subtree = build_tree(best_split[\"dataset_right\"], min_samples_split, max_depth, curr_depth + 1)\n",
    "            return {\"feature_index\": best_split[\"feature_index\"], \n",
    "                    \"threshold\": best_split[\"threshold\"], \n",
    "                    \"left\": left_subtree, \n",
    "                    \"right\": right_subtree, \n",
    "                    \"info_gain\": best_split[\"info_gain\"]}\n",
    "    leaf_value = calculate_leaf_value(Y)\n",
    "    return {\"value\": leaf_value}"
   ]
  },
  {
   "cell_type": "code",
   "execution_count": 10,
   "id": "17eab47e-63a0-42b4-b8c9-3b7a874affb0",
   "metadata": {},
   "outputs": [],
   "source": [
    "def print_tree(tree=None, indent=\" \"):\n",
    "    if tree is None:\n",
    "        return\n",
    "    if \"value\" in tree:\n",
    "        print(tree[\"value\"])\n",
    "    else:\n",
    "        print(\"X_\" + str(tree[\"feature_index\"]), \"<=\", tree[\"threshold\"], \"?\", tree[\"info_gain\"])\n",
    "        print(\"%sleft:\" % (indent), end=\"\")\n",
    "        print_tree(tree[\"left\"], indent + indent)\n",
    "        print(\"%sright:\" % (indent), end=\"\")\n",
    "        print_tree(tree[\"right\"], indent + indent)"
   ]
  },
  {
   "cell_type": "code",
   "execution_count": 11,
   "id": "e63a4e1f-8dc6-44ce-954b-0bb398eaf3fc",
   "metadata": {},
   "outputs": [],
   "source": [
    "def fit(X, Y, min_samples_split=2, max_depth=2):\n",
    "    dataset = np.concatenate((X, Y), axis=1)\n",
    "    return build_tree(dataset, min_samples_split, max_depth)"
   ]
  },
  {
   "cell_type": "code",
   "execution_count": 12,
   "id": "4b36a747-735d-4de7-8391-fd9fd6ec3266",
   "metadata": {},
   "outputs": [],
   "source": [
    "def make_prediction(x, tree):\n",
    "    if \"value\" in tree:\n",
    "        return tree[\"value\"]\n",
    "    feature_val = x[tree[\"feature_index\"]]\n",
    "    if feature_val <= tree[\"threshold\"]:\n",
    "        return make_prediction(x, tree[\"left\"])\n",
    "    else:\n",
    "        return make_prediction(x, tree[\"right\"])"
   ]
  },
  {
   "cell_type": "code",
   "execution_count": 13,
   "id": "198fb076-f8f4-4b30-be55-adf0ae242ef9",
   "metadata": {},
   "outputs": [],
   "source": [
    "def predict(X, tree):\n",
    "    return [make_prediction(x, tree) for x in X]"
   ]
  },
  {
   "cell_type": "code",
   "execution_count": 14,
   "id": "34e8083a-4dc3-4cef-84fe-59b911fd2372",
   "metadata": {},
   "outputs": [],
   "source": [
    "def accuracy_score(y_true, y_pred):\n",
    "    correct = sum(1 for true, pred in zip(y_true, y_pred) if true == pred)\n",
    "    return correct / len(y_true)"
   ]
  },
  {
   "cell_type": "code",
   "execution_count": 15,
   "id": "2a31ec50-1ef2-4763-8638-b098e151a5d5",
   "metadata": {},
   "outputs": [
    {
     "name": "stdout",
     "output_type": "stream",
     "text": [
      "X_2 <= 1.9 ? 0.33741385372714494\n",
      " left:Iris-setosa\n",
      " right:X_3 <= 1.5 ? 0.427106638180289\n",
      "  left:X_2 <= 4.9 ? 0.05124653739612173\n",
      "    left:Iris-versicolor\n",
      "    right:Iris-virginica\n",
      "  right:X_2 <= 5.0 ? 0.019631171921475288\n",
      "    left:X_1 <= 2.8 ? 0.20833333333333334\n",
      "        left:Iris-virginica\n",
      "        right:Iris-versicolor\n",
      "    right:Iris-virginica\n",
      "0.9333333333333333\n"
     ]
    }
   ],
   "source": [
    "X = data.iloc[:, :-1].values\n",
    "Y = data.iloc[:, -1].values.reshape(-1,1)\n",
    "from sklearn.model_selection import train_test_split\n",
    "X_train, X_test, Y_train, Y_test = train_test_split(X, Y, test_size=.2, random_state=41)\n",
    "tree = fit(X_train, Y_train, min_samples_split=3, max_depth=3)\n",
    "print_tree(tree)\n",
    "Y_pred = predict(X_test, tree)\n",
    "print(accuracy_score(Y_test, Y_pred))"
   ]
  },
  {
   "cell_type": "code",
   "execution_count": null,
   "id": "e9d67151-05f0-4c17-97d4-ff7a2808164e",
   "metadata": {},
   "outputs": [],
   "source": []
  },
  {
   "cell_type": "code",
   "execution_count": null,
   "id": "7a2e3f50-18ea-4e64-87fa-9b8756245140",
   "metadata": {},
   "outputs": [],
   "source": []
  },
  {
   "cell_type": "code",
   "execution_count": null,
   "id": "84dc7e73-bd59-49bb-a1cf-009244b5b67e",
   "metadata": {},
   "outputs": [],
   "source": []
  },
  {
   "cell_type": "code",
   "execution_count": 19,
   "id": "1e8d344b-dae9-4d6b-8a88-f4f4cdc737b2",
   "metadata": {},
   "outputs": [],
   "source": [
    "#001"
   ]
  }
 ],
 "metadata": {
  "kernelspec": {
   "display_name": "Python 3 (ipykernel)",
   "language": "python",
   "name": "python3"
  },
  "language_info": {
   "codemirror_mode": {
    "name": "ipython",
    "version": 3
   },
   "file_extension": ".py",
   "mimetype": "text/x-python",
   "name": "python",
   "nbconvert_exporter": "python",
   "pygments_lexer": "ipython3",
   "version": "3.10.6"
  }
 },
 "nbformat": 4,
 "nbformat_minor": 5
}
