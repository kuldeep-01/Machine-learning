{
 "cells": [
  {
   "cell_type": "code",
   "execution_count": 1,
   "id": "abd503fb-d9a2-408b-b5ca-8252ac112761",
   "metadata": {},
   "outputs": [],
   "source": [
    "import numpy as np\n",
    "import matplotlib.pyplot as plt\n",
    "import copy\n",
    "import math\n",
    "import pandas as pd\n",
    "\n",
    "%matplotlib inline"
   ]
  },
  {
   "cell_type": "code",
   "execution_count": 2,
   "id": "34249c13-48df-4b1e-b480-97018d38a007",
   "metadata": {},
   "outputs": [
    {
     "name": "stdout",
     "output_type": "stream",
     "text": [
      "[[0.1799  0.1038  0.1228  ... 0.1471  0.2419  0.07871]\n",
      " [0.2057  0.1777  0.1329  ... 0.07017 0.1812  0.05667]\n",
      " [0.1969  0.2125  0.13    ... 0.1279  0.2069  0.05999]\n",
      " ...\n",
      " [0.166   0.2808  0.1083  ... 0.05302 0.159   0.05648]\n",
      " [0.206   0.2933  0.1401  ... 0.152   0.2397  0.07016]\n",
      " [0.0776  0.2454  0.04792 ... 0.      0.1587  0.05884]]\n",
      "569\n",
      "(569, 10)\n",
      "[1 1 1 1 1 1 1 1 1 1 1 1 1 1 1 1 1 1 1 0 0 0 1 1 1 1 1 1 1 1 1 1 1 1 1 1 1\n",
      " 0 1 1 1 1 1 1 1 1 0 1 0 0 0 0 0 1 1 0 1 1 0 0 0 0 1 0 1 1 0 0 0 0 1 0 1 1\n",
      " 0 1 0 1 1 0 0 0 1 1 0 1 1 1 0 0 0 1 0 0 1 1 0 0 0 1 1 0 0 0 0 1 0 0 1 0 0\n",
      " 0 0 0 0 0 0 1 1 1 0 1 1 0 0 0 1 1 0 1 0 1 1 0 1 1 0 0 1 0 0 1 0 0 0 0 1 0\n",
      " 0 0 0 0 0 0 0 0 1 0 0 0 0 1 1 0 1 0 0 1 1 0 0 1 1 0 0 0 0 1 0 0 1 1 1 0 1\n",
      " 0 1 0 0 0 1 0 0 1 1 0 1 1 1 1 0 1 1 1 0 1 0 1 0 0 1 0 1 1 1 1 0 0 1 1 0 0\n",
      " 0 1 0 0 0 0 0 1 1 0 0 1 0 0 1 1 0 1 0 0 0 0 1 0 0 0 0 0 1 0 1 1 1 1 1 1 1\n",
      " 1 1 1 1 1 1 1 0 0 0 0 0 0 1 0 1 0 0 1 0 0 1 0 1 1 0 0 0 0 0 0 0 0 0 0 0 0\n",
      " 0 1 0 0 1 0 1 0 0 0 0 0 0 0 0 0 0 0 0 0 0 1 0 0 0 1 0 1 0 0 0 0 1 1 1 0 0\n",
      " 0 0 1 0 1 0 1 0 0 0 1 0 0 0 0 0 0 0 1 1 1 0 0 0 0 0 0 0 0 0 0 0 1 1 0 1 1\n",
      " 1 0 1 1 0 0 0 0 0 1 0 0 0 0 0 1 0 0 0 1 0 0 1 1 0 0 0 0 0 0 1 0 0 0 0 0 0\n",
      " 0 1 0 0 0 0 0 1 0 0 1 0 0 0 0 0 0 0 0 0 0 0 0 1 0 1 1 0 1 0 0 0 0 0 1 0 0\n",
      " 1 0 1 0 0 1 0 1 0 0 0 0 0 0 0 0 1 1 0 0 0 0 0 0 1 0 0 0 0 0 0 0 0 0 0 1 0\n",
      " 0 0 0 0 0 0 1 0 1 0 0 1 0 0 0 0 0 1 1 0 1 0 1 0 0 0 0 0 1 0 0 1 0 1 0 1 1\n",
      " 0 0 0 1 0 0 0 0 0 0 0 0 0 0 0 1 0 1 1 0 0 0 0 0 0 0 0 0 0 0 0 0 0 0 0 0 0\n",
      " 0 0 0 0 0 0 0 1 1 1 1 1 1 0]\n",
      "569\n",
      "(569,)\n"
     ]
    }
   ],
   "source": [
    "data = pd.read_csv('data.csv')\n",
    "\n",
    "radius = data['radius_mean']\n",
    "texture = data['texture_mean']\n",
    "perimeter = data['perimeter_mean']\n",
    "area = data['area_mean']\n",
    "smoothness = data['smoothness_mean']\n",
    "compactness = data['compactness_mean']\n",
    "concavity = data['concavity_mean']\n",
    "concave_point = data['concave points_mean']\n",
    "symmetry = data['symmetry_mean']\n",
    "fractal = data['fractal_dimension_mean']\n",
    "\n",
    "diagnosis = data['diagnosis']\n",
    "feature=[]\n",
    "for i in range (len(radius)):\n",
    "    tmp=[]\n",
    "    tmp.append(radius[i]/100)\n",
    "    tmp.append(texture[i]/100)\n",
    "    tmp.append(perimeter[i]/1000)\n",
    "    tmp.append(area[i]/1000)\n",
    "    tmp.append(smoothness[i])\n",
    "    tmp.append(compactness[i])\n",
    "    tmp.append(concavity[i])\n",
    "    tmp.append(concave_point[i])\n",
    "    tmp.append(symmetry[i])\n",
    "    tmp.append(fractal[i])\n",
    "    feature.append(tmp)\n",
    "\n",
    "diagnosis = [1 if element == 'M' else 0 for element in diagnosis]\n",
    "\n",
    "X_train = np.array(feature)\n",
    "y_train = np.array(diagnosis)\n",
    "\n",
    "print(X_train)\n",
    "print(len(X_train))\n",
    "print(X_train.shape)\n",
    "print(y_train)\n",
    "print(len(y_train))\n",
    "print(y_train.shape)"
   ]
  },
  {
   "cell_type": "code",
   "execution_count": 3,
   "id": "1c778596-f47f-49ec-bdac-362298c7f6ce",
   "metadata": {},
   "outputs": [],
   "source": [
    "def sigmoid(z):\n",
    "\n",
    "    g = 1/(1+np.exp(-z))\n",
    " \n",
    "    return g"
   ]
  },
  {
   "cell_type": "code",
   "execution_count": 4,
   "id": "d4fa6f87-65c4-4393-bfac-6868d90ffec8",
   "metadata": {},
   "outputs": [],
   "source": [
    "def compute_cost(X, y, w, b):\n",
    "    m, n = X.shape\n",
    "    cost=0.0\n",
    "    for i in range (m):\n",
    "        z_i = np.dot(X[i],w) + b\n",
    "        f_wb_i = sigmoid(z_i)\n",
    "        cost += -y[i]*np.log(f_wb_i) - (1-y[i])*np.log(1-f_wb_i)\n",
    "    total_cost = cost / m\n",
    "    return total_cost"
   ]
  },
  {
   "cell_type": "code",
   "execution_count": 5,
   "id": "539453d8-2b25-4c65-8c78-8615bfcc0e95",
   "metadata": {},
   "outputs": [],
   "source": [
    "def compute_gradient(X, y, w, b): \n",
    "\n",
    "    m, n = X.shape\n",
    "    dj_dw = np.zeros(w.shape)\n",
    "    dj_db = 0.\n",
    "\n",
    "    for i  in range(m):\n",
    "        f_wb_i=sigmoid(np.dot(X[i],w)+b)\n",
    "        err_i = f_wb_i - y[i]\n",
    "        for j in range(n):\n",
    "            dj_dw[j]=dj_dw[j]+err_i*X[i,j]\n",
    "        dj_db=dj_db + err_i\n",
    "    dj_dw=dj_dw/m\n",
    "    dj_db=dj_db/m\n",
    "    \n",
    "    return dj_db, dj_dw"
   ]
  },
  {
   "cell_type": "code",
   "execution_count": 6,
   "id": "6727447a-de6a-4b2d-a2d2-06c7cecbe7f9",
   "metadata": {},
   "outputs": [],
   "source": [
    "def gradient_descent(X, y, w_in, b_in, cost_function, gradient_function, alpha, num_iters): \n",
    "\n",
    "    m = len(X)\n",
    "\n",
    "    J_history = []\n",
    "    w_history = []\n",
    "    \n",
    "    for i in range(num_iters):\n",
    "\n",
    "        dj_db, dj_dw = gradient_function(X, y, w_in, b_in)   \n",
    "\n",
    "        w_in = w_in - alpha * dj_dw               \n",
    "        b_in = b_in - alpha * dj_db              \n",
    "\n",
    "        if i<100000:  \n",
    "            cost =  cost_function(X, y, w_in, b_in)\n",
    "            J_history.append(cost)\n",
    "\n",
    "        if i% math.ceil(num_iters/10) == 0 or i == (num_iters-1):\n",
    "            w_history.append(w_in)\n",
    "            print(f\"Iteration {i:4}: Cost {float(J_history[-1]):8.2f}   \")\n",
    "        \n",
    "    return w_in, b_in, J_history, w_history "
   ]
  },
  {
   "cell_type": "code",
   "execution_count": 7,
   "id": "686533f7-7ca4-4bcb-9ea4-a9c3a8932c12",
   "metadata": {},
   "outputs": [
    {
     "name": "stdout",
     "output_type": "stream",
     "text": [
      "Iteration    0: Cost     0.69   \n",
      "Iteration 3000: Cost     0.28   \n",
      "Iteration 6000: Cost     0.24   \n",
      "Iteration 9000: Cost     0.23   \n",
      "Iteration 12000: Cost     0.22   \n",
      "Iteration 15000: Cost     0.21   \n",
      "Iteration 18000: Cost     0.20   \n",
      "Iteration 21000: Cost     0.20   \n",
      "Iteration 24000: Cost     0.19   \n",
      "Iteration 27000: Cost     0.19   \n",
      "Iteration 29999: Cost     0.19   \n",
      "b,w found by gradient descent: -10.28,[ 0.22019661  5.77612877  0.40482236  9.41643851  1.78892862  6.99359421\n",
      " 11.18388166  5.7815578   2.45638007  0.10310501] \n"
     ]
    }
   ],
   "source": [
    "\n",
    "initial_w = np.zeros(10)\n",
    "initial_b = 0\n",
    "\n",
    "iterations = 30000\n",
    "alpha = 0.1\n",
    "\n",
    "w,b, J_history, w_history = gradient_descent(X_train ,y_train, initial_w, initial_b, compute_cost, compute_gradient, alpha, iterations)\n",
    "print(f\"b,w found by gradient descent: {b:0.2f},{w} \")"
   ]
  },
  {
   "cell_type": "code",
   "execution_count": 137,
   "id": "3a099dd3-8c5a-4237-9046-ea083318e4b0",
   "metadata": {},
   "outputs": [],
   "source": [
    "def predict(X, w, b): \n",
    "    m, n = X.shape   \n",
    "    p = np.zeros(m)\n",
    "    for i in range(m):   \n",
    "        z_wb = 0\n",
    "        for j in range(n): \n",
    "            z_wb_ij = X[i, j] * w[j]\n",
    "            z_wb += z_wb_ij\n",
    "        z_wb += b\n",
    "        f_wb = sigmoid(z_wb)\n",
    "        p[i] = f_wb >= 0.5\n",
    "    return p"
   ]
  },
  {
   "cell_type": "code",
   "execution_count": 138,
   "id": "25b9f71e-7727-40f8-8dab-a540f989ef9f",
   "metadata": {},
   "outputs": [
    {
     "name": "stdout",
     "output_type": "stream",
     "text": [
      "Train Accuracy: 91.564148\n"
     ]
    }
   ],
   "source": [
    "p = predict(X_train, w,b)\n",
    "print('Train Accuracy: %f'%(np.mean(p == y_train) * 100))"
   ]
  },
  {
   "cell_type": "code",
   "execution_count": 108,
   "id": "83d1694c-fd63-4b6e-978b-d62bdf2c8b4f",
   "metadata": {},
   "outputs": [
    {
     "name": "stdout",
     "output_type": "stream",
     "text": [
      "[0. 0. 0. 0. 0. 0. 0. 0. 0. 0.]\n",
      "(10,)\n"
     ]
    }
   ],
   "source": [
    "initial_w = np.zeros(10)\n",
    "print(initial_w)\n",
    "print(initial_w.shape)"
   ]
  },
  {
   "cell_type": "code",
   "execution_count": null,
   "id": "48cee94d-bfa8-4a88-a44d-7a5ae76aef79",
   "metadata": {},
   "outputs": [],
   "source": []
  }
 ],
 "metadata": {
  "kernelspec": {
   "display_name": "Python 3 (ipykernel)",
   "language": "python",
   "name": "python3"
  },
  "language_info": {
   "codemirror_mode": {
    "name": "ipython",
    "version": 3
   },
   "file_extension": ".py",
   "mimetype": "text/x-python",
   "name": "python",
   "nbconvert_exporter": "python",
   "pygments_lexer": "ipython3",
   "version": "3.10.6"
  }
 },
 "nbformat": 4,
 "nbformat_minor": 5
}
