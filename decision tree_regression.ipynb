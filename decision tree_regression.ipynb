{
 "cells": [
  {
   "cell_type": "code",
   "execution_count": 1,
   "id": "0f5c9e32-3c73-4217-a479-2bbd5e0f01db",
   "metadata": {},
   "outputs": [],
   "source": [
    "import numpy as np\n",
    "import pandas as pd"
   ]
  },
  {
   "cell_type": "code",
   "execution_count": 2,
   "id": "568347c9-1873-44c8-8e15-605c55e646f2",
   "metadata": {},
   "outputs": [
    {
     "data": {
      "text/html": [
       "<div>\n",
       "<style scoped>\n",
       "    .dataframe tbody tr th:only-of-type {\n",
       "        vertical-align: middle;\n",
       "    }\n",
       "\n",
       "    .dataframe tbody tr th {\n",
       "        vertical-align: top;\n",
       "    }\n",
       "\n",
       "    .dataframe thead th {\n",
       "        text-align: right;\n",
       "    }\n",
       "</style>\n",
       "<table border=\"1\" class=\"dataframe\">\n",
       "  <thead>\n",
       "    <tr style=\"text-align: right;\">\n",
       "      <th></th>\n",
       "      <th>x0</th>\n",
       "      <th>x1</th>\n",
       "      <th>x2</th>\n",
       "      <th>x3</th>\n",
       "      <th>x4</th>\n",
       "      <th>y</th>\n",
       "    </tr>\n",
       "  </thead>\n",
       "  <tbody>\n",
       "    <tr>\n",
       "      <th>0</th>\n",
       "      <td>800</td>\n",
       "      <td>0.0</td>\n",
       "      <td>0.3048</td>\n",
       "      <td>71.3</td>\n",
       "      <td>0.002663</td>\n",
       "      <td>126.201</td>\n",
       "    </tr>\n",
       "    <tr>\n",
       "      <th>1</th>\n",
       "      <td>1000</td>\n",
       "      <td>0.0</td>\n",
       "      <td>0.3048</td>\n",
       "      <td>71.3</td>\n",
       "      <td>0.002663</td>\n",
       "      <td>125.201</td>\n",
       "    </tr>\n",
       "    <tr>\n",
       "      <th>2</th>\n",
       "      <td>1250</td>\n",
       "      <td>0.0</td>\n",
       "      <td>0.3048</td>\n",
       "      <td>71.3</td>\n",
       "      <td>0.002663</td>\n",
       "      <td>125.951</td>\n",
       "    </tr>\n",
       "    <tr>\n",
       "      <th>3</th>\n",
       "      <td>1600</td>\n",
       "      <td>0.0</td>\n",
       "      <td>0.3048</td>\n",
       "      <td>71.3</td>\n",
       "      <td>0.002663</td>\n",
       "      <td>127.591</td>\n",
       "    </tr>\n",
       "    <tr>\n",
       "      <th>4</th>\n",
       "      <td>2000</td>\n",
       "      <td>0.0</td>\n",
       "      <td>0.3048</td>\n",
       "      <td>71.3</td>\n",
       "      <td>0.002663</td>\n",
       "      <td>127.461</td>\n",
       "    </tr>\n",
       "  </tbody>\n",
       "</table>\n",
       "</div>"
      ],
      "text/plain": [
       "     x0   x1      x2    x3        x4        y\n",
       "0   800  0.0  0.3048  71.3  0.002663  126.201\n",
       "1  1000  0.0  0.3048  71.3  0.002663  125.201\n",
       "2  1250  0.0  0.3048  71.3  0.002663  125.951\n",
       "3  1600  0.0  0.3048  71.3  0.002663  127.591\n",
       "4  2000  0.0  0.3048  71.3  0.002663  127.461"
      ]
     },
     "execution_count": 2,
     "metadata": {},
     "output_type": "execute_result"
    }
   ],
   "source": [
    "data = pd.read_csv(\"airfoil_noise_data.csv\")\n",
    "data.head(5)"
   ]
  },
  {
   "cell_type": "code",
   "execution_count": 3,
   "id": "232c18ac-b545-4a1a-8a54-50b6c27f143c",
   "metadata": {},
   "outputs": [],
   "source": [
    "X = data.iloc[:, :-1].values\n",
    "Y = data.iloc[:, -1].values.reshape(-1,1)\n",
    "from sklearn.model_selection import train_test_split\n",
    "X_train, X_test, Y_train, Y_test = train_test_split(X, Y, test_size=.2, random_state=41)"
   ]
  },
  {
   "cell_type": "code",
   "execution_count": 4,
   "id": "a4e760b0-1a92-4186-9a15-66d2daf80148",
   "metadata": {},
   "outputs": [],
   "source": [
    "def build_node(feature_index=None, threshold=None, left=None, right=None, var_red=None, value=None):\n",
    "    return {\n",
    "        \"feature_index\": feature_index,\n",
    "        \"threshold\": threshold,\n",
    "        \"left\": left,\n",
    "        \"right\": right,\n",
    "        \"var_red\": var_red,\n",
    "        \"value\": value\n",
    "    }"
   ]
  },
  {
   "cell_type": "code",
   "execution_count": 5,
   "id": "b331df7b-a602-4c49-91d0-e21d93801fc2",
   "metadata": {},
   "outputs": [],
   "source": [
    "def build_decision_tree_regressor(min_samples_split=2, max_depth=2):\n",
    "    return {\n",
    "        \"root\": None,\n",
    "        \"min_samples_split\": min_samples_split,\n",
    "        \"max_depth\": max_depth\n",
    "    }"
   ]
  },
  {
   "cell_type": "code",
   "execution_count": 6,
   "id": "a19111fd-6ecc-4e58-9bcd-cd20e7575d32",
   "metadata": {},
   "outputs": [],
   "source": [
    "def build_tree(dataset, decision_tree, curr_depth=0):\n",
    "    X, Y = dataset[:, :-1], dataset[:, -1]\n",
    "    num_samples, num_features = np.shape(X)\n",
    "    best_split = {}\n",
    "    if num_samples >= decision_tree[\"min_samples_split\"] and curr_depth <= decision_tree[\"max_depth\"]:\n",
    "        best_split = get_best_split(dataset, num_samples, num_features, decision_tree)\n",
    "        if best_split[\"var_red\"] > 0:\n",
    "            left_subtree = build_tree(best_split[\"dataset_left\"], decision_tree, curr_depth + 1)\n",
    "            right_subtree = build_tree(best_split[\"dataset_right\"], decision_tree, curr_depth + 1)\n",
    "            return build_node(best_split[\"feature_index\"], best_split[\"threshold\"], left_subtree, right_subtree, best_split[\"var_red\"])\n",
    "    leaf_value = calculate_leaf_value(Y)\n",
    "    return build_node(value=leaf_value)"
   ]
  },
  {
   "cell_type": "code",
   "execution_count": 8,
   "id": "d1cc1083-d87a-4720-9ba4-53f15f8a9de4",
   "metadata": {},
   "outputs": [],
   "source": [
    "def get_best_split(dataset, num_samples, num_features, decision_tree):\n",
    "    best_split = {}\n",
    "    max_var_red = -float(\"inf\")\n",
    "    for feature_index in range(num_features):\n",
    "        feature_values = dataset[:, feature_index]\n",
    "        possible_thresholds = np.unique(feature_values)\n",
    "        for threshold in possible_thresholds:\n",
    "            dataset_left, dataset_right = split(dataset, feature_index, threshold)\n",
    "            if len(dataset_left) > 0 and len(dataset_right) > 0:\n",
    "                y, left_y, right_y = dataset[:, -1], dataset_left[:, -1], dataset_right[:, -1]\n",
    "                curr_var_red = variance_reduction(y, left_y, right_y)\n",
    "                if curr_var_red > max_var_red:\n",
    "                    best_split[\"feature_index\"] = feature_index\n",
    "                    best_split[\"threshold\"] = threshold\n",
    "                    best_split[\"dataset_left\"] = dataset_left\n",
    "                    best_split[\"dataset_right\"] = dataset_right\n",
    "                    best_split[\"var_red\"] = curr_var_red\n",
    "                    max_var_red = curr_var_red\n",
    "    return best_split"
   ]
  },
  {
   "cell_type": "code",
   "execution_count": 9,
   "id": "dc63a616-880c-4804-9369-a59a8a6274ed",
   "metadata": {},
   "outputs": [],
   "source": [
    "def split(dataset, feature_index, threshold):\n",
    "    dataset_left = np.array([row for row in dataset if row[feature_index] <= threshold])\n",
    "    dataset_right = np.array([row for row in dataset if row[feature_index] > threshold])\n",
    "    return dataset_left, dataset_right"
   ]
  },
  {
   "cell_type": "code",
   "execution_count": 10,
   "id": "4fa67a30-1f27-479f-8604-9cfd53d31ce4",
   "metadata": {},
   "outputs": [],
   "source": [
    "def variance_reduction(parent, l_child, r_child):\n",
    "    weight_l = len(l_child) / len(parent)\n",
    "    weight_r = len(r_child) / len(parent)\n",
    "    reduction = np.var(parent) - (weight_l * np.var(l_child) + weight_r * np.var(r_child))\n",
    "    return reduction"
   ]
  },
  {
   "cell_type": "code",
   "execution_count": 11,
   "id": "a9dba309-6da2-4a3c-b257-aed2b6b009bc",
   "metadata": {},
   "outputs": [],
   "source": [
    "\n",
    "def calculate_leaf_value(Y):\n",
    "    val = np.mean(Y)\n",
    "    return val"
   ]
  },
  {
   "cell_type": "code",
   "execution_count": 12,
   "id": "655ddbcd-8797-4823-949d-14d1ed8fb98b",
   "metadata": {},
   "outputs": [],
   "source": [
    "def print_tree(tree=None, indent=\" \"):\n",
    "    if not tree:\n",
    "        return\n",
    "\n",
    "    if tree[\"value\"] is not None:\n",
    "        print(tree[\"value\"])\n",
    "    else:\n",
    "        print(\"X_\" + str(tree[\"feature_index\"]), \"<=\", tree[\"threshold\"], \"?\", tree[\"var_red\"])\n",
    "        print(\"%sleft:\" % (indent), end=\"\")\n",
    "        print_tree(tree[\"left\"], indent + indent)\n",
    "        print(\"%sright:\" % (indent), end=\"\")\n",
    "        print_tree(tree[\"right\"], indent + indent)"
   ]
  },
  {
   "cell_type": "code",
   "execution_count": 13,
   "id": "3f3c9926-aee5-4feb-9a32-080184b57637",
   "metadata": {},
   "outputs": [],
   "source": [
    "def fit(decision_tree, X, Y):\n",
    "    dataset = np.concatenate((X, Y), axis=1)\n",
    "    decision_tree[\"root\"] = build_tree(dataset, decision_tree)"
   ]
  },
  {
   "cell_type": "code",
   "execution_count": 14,
   "id": "f02ecfbf-232c-49ee-a41c-35b96f617d96",
   "metadata": {},
   "outputs": [],
   "source": [
    "def make_prediction(x, tree):\n",
    "    if tree[\"value\"] is not None:\n",
    "        return tree[\"value\"]\n",
    "    feature_val = x[tree[\"feature_index\"]]\n",
    "    if feature_val <= tree[\"threshold\"]:\n",
    "        return make_prediction(x, tree[\"left\"])\n",
    "    else:\n",
    "        return make_prediction(x, tree[\"right\"])"
   ]
  },
  {
   "cell_type": "code",
   "execution_count": 15,
   "id": "431a8e11-5039-42fa-af4e-f522c1abe06d",
   "metadata": {},
   "outputs": [],
   "source": [
    "\n",
    "def predict(decision_tree, X):\n",
    "    predictions = [make_prediction(x, decision_tree[\"root\"]) for x in X]\n",
    "    return predictions"
   ]
  },
  {
   "cell_type": "code",
   "execution_count": 16,
   "id": "b245b2e9-1930-458b-8011-7b2c8576e9ac",
   "metadata": {},
   "outputs": [
    {
     "name": "stdout",
     "output_type": "stream",
     "text": [
      "X_0 <= 3150.0 ? 7.132048702017748\n",
      " left:X_4 <= 0.0337792 ? 3.590330569067664\n",
      "  left:X_3 <= 55.5 ? 1.17898999813184\n",
      "    left:X_4 <= 0.00251435 ? 1.614396721819876\n",
      "        left:128.9919833333333\n",
      "        right:125.90953579676673\n",
      "    right:X_1 <= 15.4 ? 2.2342245360792994\n",
      "        left:129.39160280373832\n",
      "        right:123.80422222222222\n",
      "  right:X_0 <= 1250.0 ? 9.970884020498868\n",
      "    left:X_4 <= 0.0483159 ? 6.35527515982486\n",
      "        left:124.38024528301887\n",
      "        right:118.30039999999998\n",
      "    right:X_3 <= 39.6 ? 5.036286657241031\n",
      "        left:113.58091666666667\n",
      "        right:118.07284615384616\n",
      " right:X_4 <= 0.00146332 ? 29.08299210506528\n",
      "  left:X_0 <= 8000.0 ? 11.886497073996964\n",
      "    left:X_2 <= 0.0508 ? 7.608945827689519\n",
      "        left:134.04247500000002\n",
      "        right:127.33581818181818\n",
      "    right:X_4 <= 0.00076193 ? 10.6229193224008\n",
      "        left:128.94078571428574\n",
      "        right:122.40768750000001\n",
      "  right:X_4 <= 0.0229028 ? 5.638575922510643\n",
      "    left:X_0 <= 6300.0 ? 5.985051045988914\n",
      "        left:120.04740816326529\n",
      "        right:114.67370491803278\n",
      "    right:X_4 <= 0.0368233 ? 8.638744793046438\n",
      "        left:113.83169565217393\n",
      "        right:107.6395833333333\n"
     ]
    }
   ],
   "source": [
    "# Example usage:\n",
    "regressor = build_decision_tree_regressor(min_samples_split=3, max_depth=3)\n",
    "fit(regressor, X_train, Y_train)\n",
    "print_tree(regressor[\"root\"])\n"
   ]
  },
  {
   "cell_type": "code",
   "execution_count": null,
   "id": "882ed096-a66e-4659-8fbf-0bf05efcdc90",
   "metadata": {},
   "outputs": [],
   "source": []
  },
  {
   "cell_type": "code",
   "execution_count": null,
   "id": "6cf23ce0-ddc7-42a5-8a82-6a810243f858",
   "metadata": {},
   "outputs": [],
   "source": []
  },
  {
   "cell_type": "code",
   "execution_count": 17,
   "id": "3cda3bf5-c7b3-4350-94a8-4f05ac5f3fbf",
   "metadata": {},
   "outputs": [],
   "source": [
    "#002"
   ]
  }
 ],
 "metadata": {
  "kernelspec": {
   "display_name": "Python 3 (ipykernel)",
   "language": "python",
   "name": "python3"
  },
  "language_info": {
   "codemirror_mode": {
    "name": "ipython",
    "version": 3
   },
   "file_extension": ".py",
   "mimetype": "text/x-python",
   "name": "python",
   "nbconvert_exporter": "python",
   "pygments_lexer": "ipython3",
   "version": "3.10.6"
  }
 },
 "nbformat": 4,
 "nbformat_minor": 5
}
